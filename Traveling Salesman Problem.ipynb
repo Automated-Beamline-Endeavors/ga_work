{
 "cells": [
  {
   "cell_type": "markdown",
   "metadata": {},
   "source": [
    "## Traveling Salesman Problem and GA\n",
    "\n",
    "Following from: https://towardsdatascience.com/evolution-of-a-salesman-a-complete-genetic-algorithm-tutorial-for-python-6fe5d2b3ca35"
   ]
  },
  {
   "cell_type": "code",
   "execution_count": null,
   "metadata": {},
   "outputs": [],
   "source": [
    "%matplotlib notebook\n",
    "import numpy as np, random, operator, pandas as pd, matplotlib.pyplot as plt\n",
    "from collections import Counter"
   ]
  },
  {
   "cell_type": "code",
   "execution_count": null,
   "metadata": {},
   "outputs": [],
   "source": [
    "class City:\n",
    "    def __init__(self, x, y):\n",
    "        self.x = x\n",
    "        self.y = y\n",
    "    \n",
    "    def distance(self, city):\n",
    "        xDis = abs(self.x - city.x)\n",
    "        yDis = abs(self.y - city.y)\n",
    "        distance = np.sqrt((xDis ** 2) + (yDis ** 2))\n",
    "        return distance\n",
    "    \n",
    "    def __repr__(self):\n",
    "        return \"(\" + str(self.x) + \",\" + str(self.y) + \")\"\n",
    "    \n",
    "    def __lt__(self, other):\n",
    "        if self.x < other.x:\n",
    "            return True\n",
    "        elif self.x == other.x and self.y < other.y:\n",
    "            return True\n",
    "        else:\n",
    "            return False"
   ]
  },
  {
   "cell_type": "code",
   "execution_count": null,
   "metadata": {},
   "outputs": [],
   "source": [
    "class Fitness:\n",
    "    def __init__(self, route):\n",
    "        self.route = route\n",
    "        self.distance = 0\n",
    "        self.fitness= 0.0\n",
    "    \n",
    "    def routeDistance(self):\n",
    "        if self.distance ==0:\n",
    "            pathDistance = 0\n",
    "            for i in range(0, len(self.route)):\n",
    "                fromCity = self.route[i]\n",
    "                toCity = None\n",
    "                if i + 1 < len(self.route):\n",
    "                    toCity = self.route[i + 1]\n",
    "                else:\n",
    "                    toCity = self.route[0]\n",
    "                pathDistance += fromCity.distance(toCity)\n",
    "            self.distance = pathDistance\n",
    "        return self.distance\n",
    "    \n",
    "    def routeFitness(self):\n",
    "        if self.fitness == 0:\n",
    "            self.fitness = 1 / float(self.routeDistance())\n",
    "        return self.fitness"
   ]
  },
  {
   "cell_type": "code",
   "execution_count": null,
   "metadata": {},
   "outputs": [],
   "source": [
    "def createRoute(cityList):\n",
    "    route = random.sample(cityList, len(cityList))\n",
    "    return route"
   ]
  },
  {
   "cell_type": "code",
   "execution_count": null,
   "metadata": {},
   "outputs": [],
   "source": [
    "def initialPopulation(popSize, cityList):\n",
    "    population = []\n",
    "\n",
    "    for i in range(0, popSize):\n",
    "        population.append(createRoute(cityList))\n",
    "    return population"
   ]
  },
  {
   "cell_type": "code",
   "execution_count": null,
   "metadata": {},
   "outputs": [],
   "source": [
    "def rankRoutes(population):\n",
    "    fitnessResults = {}\n",
    "    for i in range(0,len(population)):\n",
    "        fitnessResults[i] = Fitness(population[i]).routeFitness()\n",
    "    return sorted(fitnessResults.items(), key = operator.itemgetter(1), reverse = True)"
   ]
  },
  {
   "cell_type": "code",
   "execution_count": null,
   "metadata": {},
   "outputs": [],
   "source": [
    "def selection(popRanked, eliteSize):\n",
    "    selectionResults = []\n",
    "    df = pd.DataFrame(np.array(popRanked), columns=[\"Index\",\"Fitness\"])\n",
    "    df['cum_sum'] = df.Fitness.cumsum()\n",
    "    df['cum_perc'] = 100*df.cum_sum/df.Fitness.sum()\n",
    "    \n",
    "    for i in range(0, eliteSize):\n",
    "        selectionResults.append(popRanked[i][0])\n",
    "    for i in range(0, len(popRanked) - eliteSize):\n",
    "        pick = 100*random.random()\n",
    "        for i in range(0, len(popRanked)):\n",
    "            if pick <= df.iat[i,3]:\n",
    "                selectionResults.append(popRanked[i][0])\n",
    "                break\n",
    "    return selectionResults"
   ]
  },
  {
   "cell_type": "code",
   "execution_count": null,
   "metadata": {},
   "outputs": [],
   "source": [
    "def matingPool(population, selectionResults):\n",
    "    matingpool = []\n",
    "    for i in range(0, len(selectionResults)):\n",
    "        index = selectionResults[i]\n",
    "        matingpool.append(population[index])\n",
    "    return matingpool"
   ]
  },
  {
   "cell_type": "code",
   "execution_count": null,
   "metadata": {},
   "outputs": [],
   "source": [
    "def breed(parent1, parent2):\n",
    "    child = []\n",
    "    childP1 = []\n",
    "    childP2 = []\n",
    "    \n",
    "    geneA = int(random.random() * len(parent1))\n",
    "    geneB = int(random.random() * len(parent1))\n",
    "    \n",
    "    startGene = min(geneA, geneB)\n",
    "    endGene = max(geneA, geneB)\n",
    "\n",
    "    for i in range(startGene, endGene):\n",
    "        childP1.append(parent1[i])\n",
    "        \n",
    "    childP2 = [item for item in parent2 if item not in childP1]\n",
    "\n",
    "    child = childP1 + childP2\n",
    "    return child"
   ]
  },
  {
   "cell_type": "code",
   "execution_count": null,
   "metadata": {},
   "outputs": [],
   "source": [
    "#Partially Mapped Crossover method of recombination/child generation\n",
    "def PMX(parent1, parent2):\n",
    "    child = [None] * len(parent1)\n",
    "    \n",
    "    #Choose 2 crossover points at random\n",
    "    geneA = int(random.random() * len(parent1))\n",
    "    geneB = int(random.random() * len(parent1))\n",
    "    \n",
    "    startGene = min(geneA, geneB)\n",
    "    endGene = max(geneA, geneB)\n",
    "    \n",
    "    tmpIndex = 0\n",
    "    i = None #Holds the gene in parent2 that needs placed\n",
    "    j = None #Holds the gene in parent1 that is in the place i was in parent 2\n",
    "    k = None #Used to find a position to place i in the child\n",
    "    \n",
    "    for index in range(startGene, endGene):\n",
    "        child[index] = parent1[index]\n",
    "        \n",
    "        if parent2[index] not in parent1[startGene:endGene]:\n",
    "            i = parent2[index]\n",
    "            j = parent1[index]\n",
    "            tmpIndex = parent2.index(j)\n",
    "            \n",
    "            while startGene <= tmpIndex and tmpIndex < endGene:\n",
    "                k = parent1[tmpIndex]\n",
    "                tmpIndex = parent2.index(k)\n",
    "\n",
    "            child[tmpIndex] = i\n",
    "            \n",
    "    for index in range(0, len(parent2)):\n",
    "        if child[index] == None:\n",
    "            child[index] = parent2[index]\n",
    "                \n",
    "    return child\n"
   ]
  },
  {
   "cell_type": "code",
   "execution_count": null,
   "metadata": {},
   "outputs": [],
   "source": [
    "def CalcIndex(lst, cIndex):\n",
    "    \n",
    "    lIndex = cIndex - 1\n",
    "    rIndex = cIndex + 1\n",
    "        \n",
    "    if lIndex < 0:\n",
    "        lIndex = len(lst) - 1\n",
    "            \n",
    "    if rIndex >= len(lst):\n",
    "        rIndex = 0\n",
    "        \n",
    "    dictry = {\"left\":lIndex, \"right\":rIndex}\n",
    "        \n",
    "    return dictry"
   ]
  },
  {
   "cell_type": "code",
   "execution_count": null,
   "metadata": {},
   "outputs": [],
   "source": [
    "def GenerateEdgeTable(parent1, parent2):\n",
    "    edges = {x: [] for x in parent1}\n",
    "    \n",
    "    cIndex = None\n",
    "    sideIn = None\n",
    "    \n",
    "    for index in range(0, len(parent1)):\n",
    "        sideIn = CalcIndex(parent1, index)\n",
    "        \n",
    "        #print(f\"cIndex: {index}, lIndex: {sideIn['left']}, rIndex: {sideIn['right']}\\n\")\n",
    "        \n",
    "        edges[parent1[index]].append(parent1[sideIn[\"left\"]])\n",
    "        edges[parent1[index]].append(parent1[sideIn[\"right\"]])\n",
    "        \n",
    "        cIndex = parent2.index(parent1[index])\n",
    "        sideIn = CalcIndex(parent2, cIndex)\n",
    "        \n",
    "        edges[parent1[index]].append(parent2[sideIn[\"left\"]])\n",
    "        edges[parent1[index]].append(parent2[sideIn[\"right\"]])\n",
    "        \n",
    "    return edges"
   ]
  },
  {
   "cell_type": "code",
   "execution_count": null,
   "metadata": {},
   "outputs": [],
   "source": [
    "def FindShortestListKey(lst, edges, child):\n",
    "    #NOTE: Given that I allow there to be multiple instances of an element in the lists to signify a common edge,\n",
    "    #          I need to remove the duplicate edges when checking their length\n",
    "    shortest = []\n",
    "    size = None\n",
    "    item = None\n",
    "    rmDups = None\n",
    "    \n",
    "    for key in lst:\n",
    "        if key not in child: #Might not need anymore\n",
    "            rmDups = Counter(edges[key])  \n",
    "            \n",
    "            if size == None:\n",
    "                size = len(rmDups)\n",
    "                shortest.append(key)\n",
    "\n",
    "            elif len(rmDups) > 0 and len(rmDups) < size:\n",
    "                size = len(rmDups)\n",
    "                shortest = [key]\n",
    "\n",
    "            elif len(rmDups) == size:\n",
    "                shortest.append(key)\n",
    "\n",
    "    if len(shortest) > 1:\n",
    "        item = random.choice(shortest)\n",
    "                    \n",
    "    else:\n",
    "        item = shortest[0]\n",
    "    \n",
    "    return item"
   ]
  },
  {
   "cell_type": "code",
   "execution_count": null,
   "metadata": {},
   "outputs": [],
   "source": [
    "#Edge Crossover method of recombination/child generation\n",
    "def EX(parent1, parent2):\n",
    "    child = []\n",
    "    \n",
    "    #A dictionary with each city as a key that connects to a list of its edges\n",
    "    edges = None\n",
    "    \n",
    "    #Used to create child\n",
    "    entry = None\n",
    "    currElement = None\n",
    "    count = None\n",
    "    i = 0\n",
    "    unused = []\n",
    "    \n",
    "    #1) Construct Edge Table\n",
    "    edges = GenerateEdgeTable(parent1, parent2)\n",
    "    \n",
    "    #2) Pick a initial element @ random & put in offspring\n",
    "    entry = random.choice(list(edges))\n",
    "    child.append(entry)\n",
    "    \n",
    "    \n",
    "    #3) Set the variable current_element = entry\n",
    "    currElement = entry\n",
    "    \n",
    "    while len(child) < len(parent1):\n",
    "    \n",
    "        #4) Remove all references to current_element from table\n",
    "        for key in edges:\n",
    "            try:\n",
    "                #NOTE: Should look for a cleaner/better solution\n",
    "                while True:\n",
    "                    edges[key].remove(currElement)\n",
    "                    \n",
    "            except ValueError:\n",
    "                pass\n",
    "        \n",
    "        #5) Examine list for current_element\n",
    "        #NOTE: Ties are split at random\n",
    "        if len(edges[currElement]) != 0:\n",
    "            count = Counter(edges[currElement]).most_common()\n",
    "            \n",
    "            #5.1) If there is a common edge, pick that to be the next element\n",
    "            if count[0][1] == 2:\n",
    "                i = 1\n",
    "\n",
    "                while i < len(count) and count[i][1] == 2:\n",
    "                    i += 1\n",
    "                \n",
    "                entry = random.choice(count[0:i])[0]\n",
    "                \n",
    "                while entry in child:\n",
    "                    entry = random.choice(count[0:i])[0]\n",
    "                    \n",
    "                currElement = entry\n",
    "\n",
    "            #5.2) Otherwise, pick the entry in the list which itself has the shortest list\n",
    "            else:\n",
    "                currElement = FindShortestListKey(edges[currElement], edges, child)\n",
    "\n",
    "        #6) In the case of reaching an empty list, a new element is chosen at random\n",
    "        else:\n",
    "            unused = [item for item in parent1 if item not in child]\n",
    "            \n",
    "            currElement = random.choice(unused)\n",
    "        \n",
    "        #Reset Variables\n",
    "        i = 0\n",
    "        unused = []\n",
    "        \n",
    "        child.append(currElement)\n",
    "    \n",
    "    return child"
   ]
  },
  {
   "cell_type": "code",
   "execution_count": null,
   "metadata": {},
   "outputs": [],
   "source": [
    "#Order Crossover method of recombination/child generation\n",
    "def OX(parent1, parent2):\n",
    "    child = [None] * len(parent1)\n",
    "    notAdded = None\n",
    "    \n",
    "    #Choose 2 crossover points at random\n",
    "    geneA = int(random.random() * len(parent1))\n",
    "    geneB = int(random.random() * len(parent1))\n",
    "    \n",
    "    startGene = min(geneA, geneB)\n",
    "    endGene = max(geneA, geneB)\n",
    "    p2Index = endGene\n",
    "    cpIndex = endGene\n",
    "    \n",
    "    #Copy over segment from parent1 into child\n",
    "    for index in range(startGene, endGene):\n",
    "        child[index] = parent1[index]\n",
    "        \n",
    "    #Start from the end of the crossover point in parent 2 and copy over any elements not currently in child\n",
    "    notAdded = [item for item in parent2 if item not in child]\n",
    "    \n",
    "    for i in range(0, len(notAdded)):\n",
    "        if parent2[p2Index] not in child:\n",
    "            if child[cpIndex] != None:\n",
    "                while child[cpIndex] != None:\n",
    "                    cpIndex += 1\n",
    "                    \n",
    "                    if cpIndex >= len(child):\n",
    "                        cpIndex = 0\n",
    "                        \n",
    "        else:\n",
    "            while parent2[p2Index] in child:\n",
    "                p2Index += 1\n",
    "                    \n",
    "                if p2Index >= len(parent2):\n",
    "                    p2Index = 0  \n",
    "                            \n",
    "        child[cpIndex] = parent2[p2Index]\n",
    "                \n",
    "            \n",
    "        p2Index += 1\n",
    "        cpIndex += 1\n",
    "        \n",
    "        if p2Index >= len(parent2):\n",
    "            p2Index = 0\n",
    "        \n",
    "        if cpIndex >= len(child):\n",
    "            cpIndex = 0\n",
    "        \n",
    "    return child"
   ]
  },
  {
   "cell_type": "code",
   "execution_count": null,
   "metadata": {},
   "outputs": [],
   "source": [
    "def breedPopulation(matingpool, eliteSize):\n",
    "    children = []\n",
    "    length = len(matingpool) - eliteSize\n",
    "    pool = random.sample(matingpool, len(matingpool))\n",
    "\n",
    "    for i in range(0,eliteSize):\n",
    "        children.append(matingpool[i])\n",
    "    \n",
    "    for i in range(0, length):\n",
    "        #child = breed(pool[i], pool[len(matingpool)-i-1])\n",
    "        child = PMX(pool[i], pool[len(matingpool) - i - 1])\n",
    "        #child = EX(pool[i], pool[len(matingpool) - i - 1])\n",
    "        #child = OX(pool[i], pool[len(matingpool) - i - 1])\n",
    "        children.append(child)\n",
    "    return children"
   ]
  },
  {
   "cell_type": "code",
   "execution_count": null,
   "metadata": {},
   "outputs": [],
   "source": [
    "def mutate(individual, mutationRate):\n",
    "    for swapped in range(len(individual)):\n",
    "        if(random.random() < mutationRate):\n",
    "            swapWith = int(random.random() * len(individual))\n",
    "            \n",
    "            city1 = individual[swapped]\n",
    "            city2 = individual[swapWith]\n",
    "            \n",
    "            individual[swapped] = city2\n",
    "            individual[swapWith] = city1\n",
    "    return individual"
   ]
  },
  {
   "cell_type": "code",
   "execution_count": null,
   "metadata": {},
   "outputs": [],
   "source": [
    "def SwapMutation(individual, mutationRate):\n",
    "    swapped = None\n",
    "    swapWith = None\n",
    "    gene1 = None\n",
    "    gene2 = None\n",
    "    \n",
    "    if(random.random() < mutationRate):\n",
    "        swapped  = random.randint(0, len(individual) - 1)\n",
    "        swapWith = random.randint(0, len(individual) - 1)\n",
    "            \n",
    "        gene1 = individual[swapped]\n",
    "        gene2 = individual[swapWith]\n",
    "            \n",
    "        individual[swapped] = gene2\n",
    "        individual[swapWith] = gene1\n",
    "    return individual"
   ]
  },
  {
   "cell_type": "code",
   "execution_count": null,
   "metadata": {},
   "outputs": [],
   "source": [
    "def InversionMutation(individual, mutationRate):\n",
    "    index1 = None\n",
    "    index2 = None\n",
    "    smallIndex = None\n",
    "    bigIndex = None\n",
    "    index = 0\n",
    "    \n",
    "    gene1 = None\n",
    "    gene2 = None\n",
    "    \n",
    "    if(random.random() < mutationRate):\n",
    "        #Randomly selects the section of the chromosome to reverse\n",
    "        index1 = random.randint(0, len(individual) - 1)\n",
    "        index2 = random.randint(0, len(individual) - 1)\n",
    "\n",
    "        smallIndex = min(index1, index2)\n",
    "        bigIndex = max(index1, index2)\n",
    "        \n",
    "        swapped = smallIndex + index\n",
    "        swapWith = bigIndex - index\n",
    "        \n",
    "        while swapped < swapWith:\n",
    "            \n",
    "            gene1 = individual[swapped]\n",
    "            gene2 = individual[swapWith]\n",
    "\n",
    "            individual[swapped] = gene2\n",
    "            individual[swapWith] = gene1\n",
    "            \n",
    "            index += 1\n",
    "            swapped = smallIndex + index\n",
    "            swapWith = bigIndex - index\n",
    "        \n",
    "    return individual"
   ]
  },
  {
   "cell_type": "code",
   "execution_count": null,
   "metadata": {},
   "outputs": [],
   "source": [
    "def mutatePopulation(population, mutationRate):\n",
    "    mutatedPop = []\n",
    "    \n",
    "    for ind in range(0, len(population)):\n",
    "        #mutatedInd = mutate(population[ind], mutationRate)\n",
    "        mutatedInd = InversionMutation(population[ind], mutationRate)\n",
    "        mutatedPop.append(mutatedInd)\n",
    "    return mutatedPop"
   ]
  },
  {
   "cell_type": "code",
   "execution_count": null,
   "metadata": {},
   "outputs": [],
   "source": [
    "def nextGeneration(currentGen, eliteSize, mutationRate):\n",
    "    popRanked = rankRoutes(currentGen)\n",
    "#    for i in popRanked:\n",
    "#        print(i)\n",
    "    selectionResults = selection(popRanked, eliteSize)\n",
    "    matingpool = matingPool(currentGen, selectionResults)\n",
    "#    for i in matingpool:\n",
    "#        print(i)\n",
    "    children = breedPopulation(matingpool, eliteSize)\n",
    "    nextGeneration = mutatePopulation(children, mutationRate)\n",
    "    return nextGeneration"
   ]
  },
  {
   "cell_type": "code",
   "execution_count": null,
   "metadata": {},
   "outputs": [],
   "source": [
    "#def geneticAlgorithm(population, popSize, eliteSize, mutationRate, generations):\n",
    "def geneticAlgorithm(population, eliteSize, mutationRate, generations):\n",
    "    #pop = initialPopulation(popSize, population)\n",
    "    pop = population\n",
    "    print(\"Initial distance: \" + str(1 / rankRoutes(pop)[0][1]))\n",
    "    \n",
    "    for i in range(0, generations):\n",
    "        pop = nextGeneration(pop, eliteSize, mutationRate)\n",
    "    \n",
    "    print(\"Final distance: \" + str(1 / rankRoutes(pop)[0][1]))\n",
    "    bestRouteIndex = rankRoutes(pop)[0][0]\n",
    "    bestRoute = pop[bestRouteIndex]\n",
    "    return bestRoute"
   ]
  },
  {
   "cell_type": "code",
   "execution_count": null,
   "metadata": {},
   "outputs": [],
   "source": [
    "#def geneticAlgorithmPlot(population, popSize, eliteSize, mutationRate, generations):\n",
    "def geneticAlgorithmPlot(population, eliteSize, mutationRate, generations):\n",
    "    #pop = initialPopulation(popSize, population)\n",
    "    pop = population\n",
    "    progress = []\n",
    "    progress.append(1 / rankRoutes(pop)[0][1])\n",
    "    \n",
    "    for i in range(0, generations):\n",
    "        pop = nextGeneration(pop, eliteSize, mutationRate)\n",
    "        progress.append(1 / rankRoutes(pop)[0][1])\n",
    "    \n",
    "    plt.plot(progress)\n",
    "    plt.ylabel('Distance')\n",
    "    plt.xlabel('Generation')\n",
    "    plt.show()"
   ]
  },
  {
   "cell_type": "code",
   "execution_count": null,
   "metadata": {},
   "outputs": [],
   "source": [
    "def geneticAlgorithmComparisonPlot(population, eliteSize, mutationRate, generations, childMethods, mutationMethods):\n",
    "    #pop = initialPopulation(popSize, population)\n",
    "    pop = population\n",
    "    progress = []\n",
    "    progress.append(1 / rankRoutes(pop)[0][1])\n",
    "    label = None\n",
    "    df = pd.DataFrame()\n",
    "    \n",
    "    for cMethod in childMethods:\n",
    "        for mMethod in mutationMethods:\n",
    "            label = childMethods[cMethod] + \",\" + mutationMethods[mMethod]\n",
    "    \n",
    "            for i in range(0, generations):\n",
    "                pop = nextGeneration(pop, eliteSize, mutationRate)\n",
    "                progress.append(1 / rankRoutes(pop)[0][1])\n",
    "                \n",
    "            df[label] = progress\n",
    "            progress = []\n",
    "            progress.append(1 / rankRoutes(pop)[0][1])\n",
    "            pop = population\n",
    "    \n",
    "    plt.plot(df)\n",
    "    plt.ylabel('Distance')\n",
    "    plt.xlabel('Generation')\n",
    "    #plt.set_labels(df.columns)\n",
    "    plt.legend(df)\n",
    "    plt.show()"
   ]
  },
  {
   "cell_type": "code",
   "execution_count": null,
   "metadata": {},
   "outputs": [],
   "source": [
    "cityList = []\n",
    "\n",
    "for i in range(0,25):\n",
    "    cityList.append(City(x=int(random.random() * 200), y=int(random.random() * 200)))"
   ]
  },
  {
   "cell_type": "code",
   "execution_count": null,
   "metadata": {},
   "outputs": [],
   "source": [
    "popSize = 100\n",
    "eliteSize = 20\n",
    "mutationRate = 0.01\n",
    "generations = 500"
   ]
  },
  {
   "cell_type": "code",
   "execution_count": null,
   "metadata": {},
   "outputs": [],
   "source": [
    "childMethods = {0:\"None\", 1:\"PMX\", 2:\"EX\", 3:\"OX\"}\n",
    "mutationMethods = {0:\"None\", 1:\"Swap\", 2:\"Inversion\"}"
   ]
  },
  {
   "cell_type": "code",
   "execution_count": null,
   "metadata": {},
   "outputs": [],
   "source": [
    "#Generate a population for testing\n",
    "pop = initialPopulation(popSize = popSize, cityList = cityList)"
   ]
  },
  {
   "cell_type": "code",
   "execution_count": null,
   "metadata": {},
   "outputs": [],
   "source": [
    "#geneticAlgorithm(population=cityList, popSize=100, eliteSize=20, mutationRate=0.01, generations=500)\n",
    "geneticAlgorithm(population=pop, eliteSize=eliteSize, mutationRate=mutationRate, generations=generations)"
   ]
  },
  {
   "cell_type": "code",
   "execution_count": null,
   "metadata": {},
   "outputs": [],
   "source": [
    "#geneticAlgorithmPlot(population=cityList, popSize=100, eliteSize=20, mutationRate=0.01, generations=500)\n",
    "#geneticAlgorithmPlot(population=pop, eliteSize=20, mutationRate=0.01, generations=500)\n",
    "geneticAlgorithmComparisonPlot(population=pop, eliteSize=eliteSize, mutationRate=mutationRate, generations=generations,\n",
    "                               childMethods = childMethods, mutationMethods = mutationMethods)"
   ]
  },
  {
   "cell_type": "code",
   "execution_count": null,
   "metadata": {},
   "outputs": [],
   "source": []
  },
  {
   "cell_type": "code",
   "execution_count": null,
   "metadata": {},
   "outputs": [],
   "source": []
  },
  {
   "cell_type": "code",
   "execution_count": null,
   "metadata": {},
   "outputs": [],
   "source": [
    "#Generate more data for the graph\n",
    "#geneticAlgorithmPlot(population=cityList, popSize=100, eliteSize=20, mutationRate=0.01, generations=500)\n",
    "geneticAlgorithmPlot(population=pop, eliteSize=20, mutationRate=0.01, generations=500)"
   ]
  },
  {
   "cell_type": "code",
   "execution_count": null,
   "metadata": {},
   "outputs": [],
   "source": [
    "#The following are for testing purposes"
   ]
  },
  {
   "cell_type": "code",
   "execution_count": null,
   "metadata": {},
   "outputs": [],
   "source": [
    "#Keeps saying that there is no modue named \"logProcess\"\n",
    "#from logProcess import log_progress"
   ]
  },
  {
   "cell_type": "code",
   "execution_count": null,
   "metadata": {
    "scrolled": true
   },
   "outputs": [],
   "source": [
    "#Smaller group for testing the adding of methods\n",
    "geneticAlgorithmPlot(population=cityList[0:10], popSize=20, eliteSize=5, mutationRate=0.01, generations=20)"
   ]
  },
  {
   "cell_type": "code",
   "execution_count": null,
   "metadata": {},
   "outputs": [],
   "source": [
    "geneticAlgorithm(population=cityList[0:10], popSize=20, eliteSize=5, mutationRate=0.01, generations=20)"
   ]
  },
  {
   "cell_type": "code",
   "execution_count": null,
   "metadata": {},
   "outputs": [],
   "source": [
    "city1 = City(0,1)\n",
    "city2 = City(1,0)\n",
    "city3 = City(0,2)\n",
    "city4 = City(2,0)"
   ]
  },
  {
   "cell_type": "code",
   "execution_count": null,
   "metadata": {},
   "outputs": [],
   "source": [
    "#The following is to test the recombination functions"
   ]
  },
  {
   "cell_type": "code",
   "execution_count": null,
   "metadata": {},
   "outputs": [],
   "source": [
    "numberPop = [i for i in range(0, 25)]"
   ]
  },
  {
   "cell_type": "code",
   "execution_count": null,
   "metadata": {},
   "outputs": [],
   "source": [
    "numberLists = []\n",
    "\n",
    "for i in range(0, 100):\n",
    "    numberLists.append(random.sample(numberPop, len(numberPop)))"
   ]
  },
  {
   "cell_type": "code",
   "execution_count": null,
   "metadata": {},
   "outputs": [],
   "source": [
    "children = []"
   ]
  },
  {
   "cell_type": "code",
   "execution_count": null,
   "metadata": {},
   "outputs": [],
   "source": [
    "p1 = [1,2,3,4,5,6,7,8,9,10,11,12,13,14,15,16,17]\n",
    "p2 = [2,15,12,5,17,9,14,6,10,16,3,11,7,4,8,1,13]"
   ]
  },
  {
   "cell_type": "code",
   "execution_count": null,
   "metadata": {},
   "outputs": [],
   "source": [
    "p1 = [1,2,3,4,5,6,7,8,9]\n",
    "p2 = [9,3,7,8,2,6,5,1,4]\n",
    "p3 = [9,10,11,12,13,14,15,16,17]"
   ]
  },
  {
   "cell_type": "code",
   "execution_count": null,
   "metadata": {},
   "outputs": [],
   "source": [
    "d = {'parent1': p1, 'parent2': p2}\n",
    "df = pd.DataFrame(data=d)\n",
    "df"
   ]
  },
  {
   "cell_type": "code",
   "execution_count": null,
   "metadata": {},
   "outputs": [],
   "source": [
    "#df1 = df1.assign(e=pd.Series(np.random.randn(sLength)).values)\n",
    "#d = {\"parent3\": p3}\n",
    "#s = pd.Series(data = d)\n",
    "#df.assign(\"parent3\"=s.values)\n",
    "df[\"parent3\"] = p3\n",
    "df"
   ]
  },
  {
   "cell_type": "code",
   "execution_count": null,
   "metadata": {},
   "outputs": [],
   "source": [
    "plt.plot(df)\n",
    "plt.ylabel('Distance')\n",
    "plt.xlabel('Generation')\n",
    "plt.show()"
   ]
  },
  {
   "cell_type": "code",
   "execution_count": null,
   "metadata": {},
   "outputs": [],
   "source": [
    "df = pd.DataFrame()\n",
    "df"
   ]
  },
  {
   "cell_type": "code",
   "execution_count": null,
   "metadata": {},
   "outputs": [],
   "source": [
    "df[\"fish\"] = p1\n",
    "df"
   ]
  },
  {
   "cell_type": "code",
   "execution_count": null,
   "metadata": {},
   "outputs": [],
   "source": []
  }
 ],
 "metadata": {
  "kernelspec": {
   "display_name": "Python 3",
   "language": "python",
   "name": "python3"
  },
  "language_info": {
   "codemirror_mode": {
    "name": "ipython",
    "version": 3
   },
   "file_extension": ".py",
   "mimetype": "text/x-python",
   "name": "python",
   "nbconvert_exporter": "python",
   "pygments_lexer": "ipython3",
   "version": "3.7.4"
  }
 },
 "nbformat": 4,
 "nbformat_minor": 2
}
